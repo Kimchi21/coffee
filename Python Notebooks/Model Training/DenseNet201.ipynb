{
  "nbformat": 4,
  "nbformat_minor": 0,
  "metadata": {
    "colab": {
      "provenance": []
    },
    "kernelspec": {
      "name": "python3",
      "display_name": "Python 3"
    },
    "language_info": {
      "name": "python"
    },
    "accelerator": "GPU",
    "gpuClass": "standard"
  },
  "cells": [
    {
      "cell_type": "code",
      "source": [
        "from google.colab import drive\n",
        "drive.mount('/content/drive', force_remount=True)"
      ],
      "metadata": {
        "colab": {
          "base_uri": "https://localhost:8080/"
        },
        "id": "4ygy7C26ULJM",
        "outputId": "6c9139eb-8dac-495f-a2b2-d0375993165e"
      },
      "execution_count": null,
      "outputs": [
        {
          "output_type": "stream",
          "name": "stdout",
          "text": [
            "Mounted at /content/drive\n"
          ]
        }
      ]
    },
    {
      "cell_type": "code",
      "source": [
        "cd/content/drive/Shareddrives/MobileNetV2"
      ],
      "metadata": {
        "colab": {
          "base_uri": "https://localhost:8080/"
        },
        "id": "sv1XmcY5ULf6",
        "outputId": "7b3215e4-f3dc-4108-bff7-c0912e890a3d"
      },
      "execution_count": null,
      "outputs": [
        {
          "output_type": "stream",
          "name": "stdout",
          "text": [
            "/content/drive/Shareddrives/MobileNetV2\n"
          ]
        }
      ]
    },
    {
      "cell_type": "code",
      "execution_count": null,
      "metadata": {
        "id": "4JSZXC7-T10D"
      },
      "outputs": [],
      "source": [
        "import tensorflow as tf\n",
        "from tensorflow.keras import datasets, layers, models\n",
        "from tensorflow.keras.preprocessing.image import ImageDataGenerator\n",
        "from tensorflow.keras.utils import plot_model"
      ]
    },
    {
      "cell_type": "code",
      "source": [
        "# Set hyperparameters\n",
        "batch_size = 32\n",
        "num_epochs = 10\n",
        "learning_rate = 0.001\n",
        "num_classes = 2"
      ],
      "metadata": {
        "id": "2F1xrRn1UOGn"
      },
      "execution_count": null,
      "outputs": []
    },
    {
      "cell_type": "code",
      "source": [
        "# Load and preprocess the data\n",
        "train_data_dir = '/content/drive/Shareddrives/MobileNetV2/Dataset_withval/train'\n",
        "val_data_dir = '/content/drive/Shareddrives/MobileNetV2/Dataset_withval/validation'\n",
        "test_data_dir = '/content/drive/Shareddrives/MobileNetV2/Dataset_withval/test'"
      ],
      "metadata": {
        "id": "WAyFKjE1UQJJ"
      },
      "execution_count": null,
      "outputs": []
    },
    {
      "cell_type": "code",
      "source": [
        "#WITH VAL\n",
        "train_datagen = ImageDataGenerator(\n",
        "    rescale=1./255,\n",
        "    shear_range=0.2,\n",
        "    zoom_range=0.2,\n",
        "    horizontal_flip=True)\n",
        "\n",
        "val_datagen = ImageDataGenerator(rescale=1./255)\n",
        "\n",
        "train_generator = train_datagen.flow_from_directory(\n",
        "    train_data_dir,\n",
        "    target_size=(224, 224),\n",
        "    batch_size=batch_size,\n",
        "    class_mode='categorical')\n",
        "\n",
        "val_generator = val_datagen.flow_from_directory(\n",
        "    val_data_dir,\n",
        "    target_size=(224, 224),\n",
        "    batch_size=batch_size,\n",
        "    class_mode='categorical')\n",
        "\n",
        "test_datagen = ImageDataGenerator(rescale=1./255)\n",
        "test_generator = test_datagen.flow_from_directory(\n",
        "    test_data_dir,\n",
        "    target_size=(224, 224),\n",
        "    batch_size=batch_size,\n",
        "    class_mode='categorical')"
      ],
      "metadata": {
        "colab": {
          "base_uri": "https://localhost:8080/"
        },
        "id": "OP5kTAARUREu",
        "outputId": "dcc36b89-0c6e-4de8-8e13-4b5f3336855f"
      },
      "execution_count": null,
      "outputs": [
        {
          "output_type": "stream",
          "name": "stdout",
          "text": [
            "Found 840 images belonging to 2 classes.\n",
            "Found 180 images belonging to 2 classes.\n",
            "Found 180 images belonging to 2 classes.\n"
          ]
        }
      ]
    },
    {
      "cell_type": "code",
      "source": [
        "# Define the model\n",
        "model = models.Sequential()\n",
        "model.add(tf.keras.applications.DenseNet201(include_top=False, input_shape=(224, 224, 3)))\n",
        "model.add(layers.GlobalAveragePooling2D())\n",
        "model.add(layers.Dense(num_classes, activation='softmax'))"
      ],
      "metadata": {
        "colab": {
          "base_uri": "https://localhost:8080/"
        },
        "id": "whmM9jIU7Fac",
        "outputId": "ecbf0797-c316-4217-e4fa-5bb8d7dd8739"
      },
      "execution_count": null,
      "outputs": [
        {
          "output_type": "stream",
          "name": "stdout",
          "text": [
            "Downloading data from https://storage.googleapis.com/tensorflow/keras-applications/densenet/densenet201_weights_tf_dim_ordering_tf_kernels_notop.h5\n",
            "74836368/74836368 [==============================] - 4s 0us/step\n"
          ]
        }
      ]
    },
    {
      "cell_type": "code",
      "source": [
        "# Compile the model\n",
        "optimizer = tf.keras.optimizers.Adam(lr=learning_rate)\n",
        "model.compile(optimizer=optimizer, loss='categorical_crossentropy', metrics=['accuracy'])"
      ],
      "metadata": {
        "colab": {
          "base_uri": "https://localhost:8080/"
        },
        "id": "ODpnhvfnUU4t",
        "outputId": "946343d3-0c8c-4167-8070-c8d6845560fc"
      },
      "execution_count": null,
      "outputs": [
        {
          "output_type": "stream",
          "name": "stderr",
          "text": [
            "WARNING:absl:`lr` is deprecated in Keras optimizer, please use `learning_rate` or use the legacy optimizer, e.g.,tf.keras.optimizers.legacy.Adam.\n"
          ]
        }
      ]
    },
    {
      "cell_type": "code",
      "source": [
        "layer_names=[layer.name for layer in model.layers]\n",
        "print(layer_names)"
      ],
      "metadata": {
        "colab": {
          "base_uri": "https://localhost:8080/"
        },
        "id": "UVKSP_uDs7ef",
        "outputId": "ea9b29db-5de1-4338-9f05-e928a76fbb4c"
      },
      "execution_count": null,
      "outputs": [
        {
          "output_type": "stream",
          "name": "stdout",
          "text": [
            "['densenet201', 'global_average_pooling2d', 'dense']\n"
          ]
        }
      ]
    },
    {
      "cell_type": "code",
      "source": [
        "model.summary()"
      ],
      "metadata": {
        "colab": {
          "base_uri": "https://localhost:8080/"
        },
        "id": "EJ-SioTctA-i",
        "outputId": "4a678a9e-5e3f-4bf8-a653-96b67ba83731"
      },
      "execution_count": null,
      "outputs": [
        {
          "output_type": "stream",
          "name": "stdout",
          "text": [
            "Model: \"sequential\"\n",
            "_________________________________________________________________\n",
            " Layer (type)                Output Shape              Param #   \n",
            "=================================================================\n",
            " densenet201 (Functional)    (None, 7, 7, 1920)        18321984  \n",
            "                                                                 \n",
            " global_average_pooling2d (G  (None, 1920)             0         \n",
            " lobalAveragePooling2D)                                          \n",
            "                                                                 \n",
            " dense (Dense)               (None, 2)                 3842      \n",
            "                                                                 \n",
            "=================================================================\n",
            "Total params: 18,325,826\n",
            "Trainable params: 18,096,770\n",
            "Non-trainable params: 229,056\n",
            "_________________________________________________________________\n"
          ]
        }
      ]
    },
    {
      "cell_type": "code",
      "source": [
        "plot_model(model, to_file='model.png', show_shapes=True, show_layer_names=True)"
      ],
      "metadata": {
        "id": "goCnfeoqtDb0",
        "outputId": "7e5619d0-748a-42c7-fafb-198599da7926",
        "colab": {
          "base_uri": "https://localhost:8080/",
          "height": 422
        }
      },
      "execution_count": null,
      "outputs": [
        {
          "output_type": "execute_result",
          "data": {
            "image/png": "[encoded data removed]",
            "text/plain": [
              "<IPython.core.display.Image object>"
            ]
          },
          "metadata": {},
          "execution_count": 8
        }
      ]
    },
    {
      "cell_type": "code",
      "source": [
        "!pip install visualkeras"
      ],
      "metadata": {
        "colab": {
          "base_uri": "https://localhost:8080/"
        },
        "id": "koV7JYMaL8Dx",
        "outputId": "6db971c8-e90f-489a-ff81-63728069a95f"
      },
      "execution_count": null,
      "outputs": [
        {
          "output_type": "stream",
          "name": "stdout",
          "text": [
            "Looking in indexes: https://pypi.org/simple, https://us-python.pkg.dev/colab-wheels/public/simple/\n",
            "Collecting visualkeras\n",
            "  Downloading visualkeras-0.0.2-py3-none-any.whl (12 kB)\n",
            "Requirement already satisfied: pillow>=6.2.0 in /usr/local/lib/python3.10/dist-packages (from visualkeras) (8.4.0)\n",
            "Requirement already satisfied: numpy>=1.18.1 in /usr/local/lib/python3.10/dist-packages (from visualkeras) (1.22.4)\n",
            "Collecting aggdraw>=1.3.11 (from visualkeras)\n",
            "  Downloading aggdraw-1.3.16-cp310-cp310-manylinux_2_17_x86_64.manylinux2014_x86_64.whl (993 kB)\n",
            "\u001b[2K     \u001b[90m━━━━━━━━━━━━━━━━━━━━━━━━━━━━━━━━━━━━━━\u001b[0m \u001b[32m993.0/993.0 kB\u001b[0m \u001b[31m45.3 MB/s\u001b[0m eta \u001b[36m0:00:00\u001b[0m\n",
            "\u001b[?25hInstalling collected packages: aggdraw, visualkeras\n",
            "Successfully installed aggdraw-1.3.16 visualkeras-0.0.2\n"
          ]
        }
      ]
    },
    {
      "cell_type": "code",
      "source": [
        "model1=model\n",
        "import visualkeras\n",
        "from PIL import ImageFont\n",
        "visualkeras.layered_view(model1, scale_xy=8, scale_z=15, max_z=15, legend=True)\n",
        "#visualkeras.layered_view(model1, legend=True)"
      ],
      "metadata": {
        "colab": {
          "base_uri": "https://localhost:8080/",
          "height": 180
        },
        "id": "yyvUJu9fL_pN",
        "outputId": "ac93de4e-ae11-41c3-d20b-193ad4c8a768"
      },
      "execution_count": null,
      "outputs": [
        {
          "output_type": "execute_result",
          "data": {
            "text/plain": [
              "<PIL.Image.Image image mode=RGBA size=178x163 at 0x7F9DA8207E50>"
            ],
            "image/png": "[encoded data removed]"
          },
          "metadata": {},
          "execution_count": 7
        }
      ]
    },
    {
      "cell_type": "code",
      "source": [
        "# Train the model\n",
        "model.fit(\n",
        "    train_generator,\n",
        "    epochs=num_epochs,\n",
        "    validation_data=val_generator)"
      ],
      "metadata": {
        "colab": {
          "base_uri": "https://localhost:8080/"
        },
        "id": "BSL7bEoj7XEc",
        "outputId": "33dc962c-cb48-425a-e2b7-4b441f00b17d"
      },
      "execution_count": null,
      "outputs": [
        {
          "output_type": "stream",
          "name": "stdout",
          "text": [
            "Epoch 1/10\n",
            "27/27 [==============================] - 511s 15s/step - loss: 0.5800 - accuracy: 0.7643 - val_loss: 49.3193 - val_accuracy: 0.5000\n",
            "Epoch 2/10\n",
            "27/27 [==============================] - 78s 3s/step - loss: 0.3080 - accuracy: 0.9095 - val_loss: 662.9308 - val_accuracy: 0.5000\n",
            "Epoch 3/10\n",
            "27/27 [==============================] - 80s 3s/step - loss: 0.2515 - accuracy: 0.9095 - val_loss: 12.9205 - val_accuracy: 0.5000\n",
            "Epoch 4/10\n",
            "27/27 [==============================] - 77s 3s/step - loss: 0.2283 - accuracy: 0.9048 - val_loss: 44.9654 - val_accuracy: 0.5000\n",
            "Epoch 5/10\n",
            "27/27 [==============================] - 81s 3s/step - loss: 0.2252 - accuracy: 0.9095 - val_loss: 1.5344 - val_accuracy: 0.7000\n",
            "Epoch 6/10\n",
            "27/27 [==============================] - 82s 3s/step - loss: 0.1487 - accuracy: 0.9429 - val_loss: 4.0094 - val_accuracy: 0.5833\n",
            "Epoch 7/10\n",
            "27/27 [==============================] - 75s 3s/step - loss: 0.1533 - accuracy: 0.9464 - val_loss: 0.4614 - val_accuracy: 0.9111\n",
            "Epoch 8/10\n",
            "27/27 [==============================] - 77s 3s/step - loss: 0.1546 - accuracy: 0.9488 - val_loss: 1.9250 - val_accuracy: 0.7611\n",
            "Epoch 9/10\n",
            "27/27 [==============================] - 79s 3s/step - loss: 0.1445 - accuracy: 0.9500 - val_loss: 0.5135 - val_accuracy: 0.9000\n",
            "Epoch 10/10\n",
            "27/27 [==============================] - 83s 3s/step - loss: 0.1970 - accuracy: 0.9262 - val_loss: 1.4761 - val_accuracy: 0.7278\n"
          ]
        },
        {
          "output_type": "execute_result",
          "data": {
            "text/plain": [
              "<keras.callbacks.History at 0x7f626016f670>"
            ]
          },
          "metadata": {},
          "execution_count": 9
        }
      ]
    },
    {
      "cell_type": "code",
      "source": [
        "# Evaluate the model on the test data\n",
        "test_loss, test_acc = model.evaluate(test_generator)\n",
        "print(f'Test Acc: {test_acc}')"
      ],
      "metadata": {
        "colab": {
          "base_uri": "https://localhost:8080/"
        },
        "id": "etovxwvqUXyh",
        "outputId": "85b0954e-2e39-487f-c7d0-9478228f6b96"
      },
      "execution_count": null,
      "outputs": [
        {
          "output_type": "stream",
          "name": "stdout",
          "text": [
            "6/6 [==============================] - 82s 16s/step - loss: 2.2795 - accuracy: 0.6722\n",
            "Test Acc: 0.6722221970558167\n"
          ]
        }
      ]
    }
  ]
}