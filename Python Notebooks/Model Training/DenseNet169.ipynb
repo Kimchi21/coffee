{
  "nbformat": 4,
  "nbformat_minor": 0,
  "metadata": {
    "colab": {
      "provenance": []
    },
    "kernelspec": {
      "name": "python3",
      "display_name": "Python 3"
    },
    "language_info": {
      "name": "python"
    },
    "accelerator": "GPU",
    "gpuClass": "standard"
  },
  "cells": [
    {
      "cell_type": "code",
      "source": [
        "from google.colab import drive\n",
        "drive.mount('/content/drive', force_remount=True)"
      ],
      "metadata": {
        "colab": {
          "base_uri": "https://localhost:8080/"
        },
        "id": "4ygy7C26ULJM",
        "outputId": "59dbf340-1210-405f-dc5d-3c594e75bf83"
      },
      "execution_count": null,
      "outputs": [
        {
          "output_type": "stream",
          "name": "stdout",
          "text": [
            "Mounted at /content/drive\n"
          ]
        }
      ]
    },
    {
      "cell_type": "code",
      "source": [
        "cd/content/drive/Shareddrives/MobileNetV2"
      ],
      "metadata": {
        "colab": {
          "base_uri": "https://localhost:8080/"
        },
        "id": "sv1XmcY5ULf6",
        "outputId": "b8991b2f-8f11-43f2-85de-3f9b939ffc58"
      },
      "execution_count": null,
      "outputs": [
        {
          "output_type": "stream",
          "name": "stdout",
          "text": [
            "/content/drive/Shareddrives/MobileNetV2\n"
          ]
        }
      ]
    },
    {
      "cell_type": "code",
      "execution_count": null,
      "metadata": {
        "id": "4JSZXC7-T10D"
      },
      "outputs": [],
      "source": [
        "import tensorflow as tf\n",
        "from tensorflow.keras import datasets, layers, models\n",
        "from tensorflow.keras.preprocessing.image import ImageDataGenerator\n",
        "from tensorflow.keras.utils import plot_model"
      ]
    },
    {
      "cell_type": "code",
      "source": [
        "# Set hyperparameters\n",
        "batch_size = 32\n",
        "num_epochs = 10\n",
        "learning_rate = 0.001\n",
        "num_classes = 2"
      ],
      "metadata": {
        "id": "2F1xrRn1UOGn"
      },
      "execution_count": null,
      "outputs": []
    },
    {
      "cell_type": "code",
      "source": [
        "# Load and preprocess the data\n",
        "train_data_dir = '/content/drive/Shareddrives/MobileNetV2/Dataset_withval/train'\n",
        "val_data_dir = '/content/drive/Shareddrives/MobileNetV2/Dataset_withval/validation'\n",
        "test_data_dir = '/content/drive/Shareddrives/MobileNetV2/Dataset_withval/test'"
      ],
      "metadata": {
        "id": "WAyFKjE1UQJJ"
      },
      "execution_count": null,
      "outputs": []
    },
    {
      "cell_type": "code",
      "source": [
        "#WITH VAL\n",
        "train_datagen = ImageDataGenerator(\n",
        "    rescale=1./255,\n",
        "    shear_range=0.2,\n",
        "    zoom_range=0.2,\n",
        "    horizontal_flip=True)\n",
        "\n",
        "val_datagen = ImageDataGenerator(rescale=1./255)\n",
        "\n",
        "train_generator = train_datagen.flow_from_directory(\n",
        "    train_data_dir,\n",
        "    target_size=(224, 224),\n",
        "    batch_size=batch_size,\n",
        "    class_mode='categorical')\n",
        "\n",
        "val_generator = val_datagen.flow_from_directory(\n",
        "    val_data_dir,\n",
        "    target_size=(224, 224),\n",
        "    batch_size=batch_size,\n",
        "    class_mode='categorical')\n",
        "\n",
        "test_datagen = ImageDataGenerator(rescale=1./255)\n",
        "test_generator = test_datagen.flow_from_directory(\n",
        "    test_data_dir,\n",
        "    target_size=(224, 224),\n",
        "    batch_size=batch_size,\n",
        "    class_mode='categorical')"
      ],
      "metadata": {
        "colab": {
          "base_uri": "https://localhost:8080/"
        },
        "id": "OP5kTAARUREu",
        "outputId": "f3c246b5-0784-4a98-a25b-89691cd300ef"
      },
      "execution_count": null,
      "outputs": [
        {
          "output_type": "stream",
          "name": "stdout",
          "text": [
            "Found 840 images belonging to 2 classes.\n",
            "Found 180 images belonging to 2 classes.\n",
            "Found 180 images belonging to 2 classes.\n"
          ]
        }
      ]
    },
    {
      "cell_type": "code",
      "source": [
        "# Define the model\n",
        "model = models.Sequential()\n",
        "model.add(tf.keras.applications.DenseNet169(include_top=False, input_shape=(224, 224, 3)))\n",
        "model.add(layers.GlobalAveragePooling2D())\n",
        "model.add(layers.Dense(num_classes, activation='softmax'))"
      ],
      "metadata": {
        "id": "whmM9jIU7Fac",
        "colab": {
          "base_uri": "https://localhost:8080/"
        },
        "outputId": "e00dff34-c4fc-4afe-815a-bbfc85c45f33"
      },
      "execution_count": null,
      "outputs": [
        {
          "output_type": "stream",
          "name": "stdout",
          "text": [
            "Downloading data from https://storage.googleapis.com/tensorflow/keras-applications/densenet/densenet169_weights_tf_dim_ordering_tf_kernels_notop.h5\n",
            "51877672/51877672 [==============================] - 1s 0us/step\n"
          ]
        }
      ]
    },
    {
      "cell_type": "code",
      "source": [
        "# Compile the model\n",
        "optimizer = tf.keras.optimizers.Adam(lr=learning_rate)\n",
        "model.compile(optimizer=optimizer, loss='categorical_crossentropy', metrics=['accuracy'])"
      ],
      "metadata": {
        "colab": {
          "base_uri": "https://localhost:8080/"
        },
        "id": "ODpnhvfnUU4t",
        "outputId": "c4526dfa-60f5-4c5b-f787-f43c82dd4991"
      },
      "execution_count": null,
      "outputs": [
        {
          "output_type": "stream",
          "name": "stderr",
          "text": [
            "WARNING:absl:`lr` is deprecated in Keras optimizer, please use `learning_rate` or use the legacy optimizer, e.g.,tf.keras.optimizers.legacy.Adam.\n"
          ]
        }
      ]
    },
    {
      "cell_type": "code",
      "source": [
        "layer_names=[layer.name for layer in model.layers]\n",
        "print(layer_names)"
      ],
      "metadata": {
        "colab": {
          "base_uri": "https://localhost:8080/"
        },
        "id": "tgyd5vcHrsev",
        "outputId": "2ddda434-4c51-4ed6-ba6f-22595beb921b"
      },
      "execution_count": null,
      "outputs": [
        {
          "output_type": "stream",
          "name": "stdout",
          "text": [
            "['densenet169', 'global_average_pooling2d', 'dense']\n"
          ]
        }
      ]
    },
    {
      "cell_type": "code",
      "source": [
        "model.summary()"
      ],
      "metadata": {
        "colab": {
          "base_uri": "https://localhost:8080/"
        },
        "id": "G1AjifXe4021",
        "outputId": "b2212d20-4d0d-4471-ebed-d04bf27e1039"
      },
      "execution_count": null,
      "outputs": [
        {
          "output_type": "stream",
          "name": "stdout",
          "text": [
            "Model: \"sequential_1\"\n",
            "_________________________________________________________________\n",
            " Layer (type)                Output Shape              Param #   \n",
            "=================================================================\n",
            " densenet169 (Functional)    (None, 7, 7, 1664)        12642880  \n",
            "                                                                 \n",
            " global_average_pooling2d_1   (None, 1664)             0         \n",
            " (GlobalAveragePooling2D)                                        \n",
            "                                                                 \n",
            " dense (Dense)               (None, 2)                 3330      \n",
            "                                                                 \n",
            "=================================================================\n",
            "Total params: 12,646,210\n",
            "Trainable params: 12,487,810\n",
            "Non-trainable params: 158,400\n",
            "_________________________________________________________________\n"
          ]
        }
      ]
    },
    {
      "cell_type": "code",
      "source": [
        "plot_model(model, to_file='model.png', show_shapes=True, show_layer_names=True)"
      ],
      "metadata": {
        "id": "awU0XEZorzEp",
        "outputId": "d2c5a992-f584-4f20-f1ed-c5932e57b13c",
        "colab": {
          "base_uri": "https://localhost:8080/",
          "height": 422
        }
      },
      "execution_count": null,
      "outputs": [
        {
          "output_type": "execute_result",
          "data": {
            "image/png": "[encoded data removed]",
            "text/plain": [
              "<IPython.core.display.Image object>"
            ]
          },
          "metadata": {},
          "execution_count": 10
        }
      ]
    },
    {
      "cell_type": "code",
      "source": [
        "!pip install visualkeras"
      ],
      "metadata": {
        "colab": {
          "base_uri": "https://localhost:8080/"
        },
        "id": "-7Shc6ifLpQm",
        "outputId": "7e36ab02-cbbc-4a7e-86ee-c11c5e07736f"
      },
      "execution_count": null,
      "outputs": [
        {
          "output_type": "stream",
          "name": "stdout",
          "text": [
            "Looking in indexes: https://pypi.org/simple, https://us-python.pkg.dev/colab-wheels/public/simple/\n",
            "Collecting visualkeras\n",
            "  Downloading visualkeras-0.0.2-py3-none-any.whl (12 kB)\n",
            "Requirement already satisfied: pillow>=6.2.0 in /usr/local/lib/python3.10/dist-packages (from visualkeras) (8.4.0)\n",
            "Requirement already satisfied: numpy>=1.18.1 in /usr/local/lib/python3.10/dist-packages (from visualkeras) (1.22.4)\n",
            "Collecting aggdraw>=1.3.11 (from visualkeras)\n",
            "  Downloading aggdraw-1.3.16-cp310-cp310-manylinux_2_17_x86_64.manylinux2014_x86_64.whl (993 kB)\n",
            "\u001b[2K     \u001b[90m━━━━━━━━━━━━━━━━━━━━━━━━━━━━━━━━━━━━━━\u001b[0m \u001b[32m993.0/993.0 kB\u001b[0m \u001b[31m16.9 MB/s\u001b[0m eta \u001b[36m0:00:00\u001b[0m\n",
            "\u001b[?25hInstalling collected packages: aggdraw, visualkeras\n",
            "Successfully installed aggdraw-1.3.16 visualkeras-0.0.2\n"
          ]
        }
      ]
    },
    {
      "cell_type": "code",
      "source": [
        "model1=model\n",
        "import visualkeras\n",
        "from PIL import ImageFont\n",
        "visualkeras.layered_view(model1, scale_xy=8, scale_z=15, max_z=15, legend=True)\n",
        "#visualkeras.layered_view(model1, legend=True)"
      ],
      "metadata": {
        "id": "PZnseb1nLrI4",
        "outputId": "354f75ed-fe0e-4862-b36a-1009563cccfa",
        "colab": {
          "base_uri": "https://localhost:8080/",
          "height": 180
        }
      },
      "execution_count": null,
      "outputs": [
        {
          "output_type": "execute_result",
          "data": {
            "text/plain": [
              "<PIL.Image.Image image mode=RGBA size=178x163 at 0x7F5DD088A830>"
            ],
            "image/png": "[encoded data removed]"
          },
          "metadata": {},
          "execution_count": 7
        }
      ]
    },
    {
      "cell_type": "code",
      "source": [
        "# Set the checkpoint file path\n",
        "checkpoint_filepath = '/content/drive/Shareddrives/MobileNetV2/DenseNet/best_DenseNet_model.h5'"
      ],
      "metadata": {
        "id": "QRmeDTuH-B45"
      },
      "execution_count": null,
      "outputs": []
    },
    {
      "cell_type": "code",
      "source": [
        "# Train the model\n",
        "model.fit(\n",
        "    train_generator,\n",
        "    epochs=num_epochs,\n",
        "    validation_data=val_generator)"
      ],
      "metadata": {
        "colab": {
          "base_uri": "https://localhost:8080/"
        },
        "id": "BSL7bEoj7XEc",
        "outputId": "a8bfc64d-1dc2-400f-978e-ddfd5f192279"
      },
      "execution_count": null,
      "outputs": [
        {
          "output_type": "stream",
          "name": "stdout",
          "text": [
            "Epoch 1/10\n",
            "27/27 [==============================] - 383s 10s/step - loss: 0.6252 - accuracy: 0.7595 - val_loss: 44.9499 - val_accuracy: 0.5000\n",
            "Epoch 2/10\n",
            "27/27 [==============================] - 76s 3s/step - loss: 0.2810 - accuracy: 0.8857 - val_loss: 5.9235 - val_accuracy: 0.6278\n",
            "Epoch 3/10\n",
            "27/27 [==============================] - 81s 3s/step - loss: 0.2348 - accuracy: 0.9179 - val_loss: 14.1210 - val_accuracy: 0.5000\n",
            "Epoch 4/10\n",
            "27/27 [==============================] - 81s 3s/step - loss: 0.1914 - accuracy: 0.9238 - val_loss: 0.8770 - val_accuracy: 0.8500\n",
            "Epoch 5/10\n",
            "27/27 [==============================] - 74s 3s/step - loss: 0.1294 - accuracy: 0.9607 - val_loss: 5.2717 - val_accuracy: 0.7111\n",
            "Epoch 6/10\n",
            "27/27 [==============================] - 77s 3s/step - loss: 0.1747 - accuracy: 0.9321 - val_loss: 1.7287 - val_accuracy: 0.7389\n",
            "Epoch 7/10\n",
            "27/27 [==============================] - 77s 3s/step - loss: 0.1484 - accuracy: 0.9500 - val_loss: 0.6771 - val_accuracy: 0.8556\n",
            "Epoch 8/10\n",
            "27/27 [==============================] - 74s 3s/step - loss: 0.1302 - accuracy: 0.9512 - val_loss: 1.0776 - val_accuracy: 0.8111\n",
            "Epoch 9/10\n",
            "27/27 [==============================] - 77s 3s/step - loss: 0.0990 - accuracy: 0.9619 - val_loss: 0.5990 - val_accuracy: 0.9167\n",
            "Epoch 10/10\n",
            "27/27 [==============================] - 74s 3s/step - loss: 0.1054 - accuracy: 0.9679 - val_loss: 0.2310 - val_accuracy: 0.9556\n"
          ]
        },
        {
          "output_type": "execute_result",
          "data": {
            "text/plain": [
              "<keras.callbacks.History at 0x7f85602621f0>"
            ]
          },
          "metadata": {},
          "execution_count": 9
        }
      ]
    },
    {
      "cell_type": "code",
      "source": [
        "# Evaluate the model on the test data\n",
        "test_loss, test_acc = model.evaluate(test_generator)\n",
        "print(f'Test Acc: {test_acc}')"
      ],
      "metadata": {
        "colab": {
          "base_uri": "https://localhost:8080/"
        },
        "id": "etovxwvqUXyh",
        "outputId": "9755a88b-86e6-4a09-f2c2-87e5fa2bc902"
      },
      "execution_count": null,
      "outputs": [
        {
          "output_type": "stream",
          "name": "stdout",
          "text": [
            "6/6 [==============================] - 39s 8s/step - loss: 1.2512 - accuracy: 0.5111\n",
            "Test Acc: 0.5111111402511597\n"
          ]
        }
      ]
    },
    {
      "cell_type": "code",
      "source": [
        "# Evaluate the best model on the test set\n",
        "best_model = tf.keras.models.load_model(checkpoint_filepath)\n",
        "test_loss, test_acc = best_model.evaluate(test_generator)\n",
        "print(f'Test accuracy: {test_acc}')"
      ],
      "metadata": {
        "colab": {
          "base_uri": "https://localhost:8080/"
        },
        "id": "UBT2yhau_M8S",
        "outputId": "29123690-be08-46a1-ea7f-e32431004a52"
      },
      "execution_count": null,
      "outputs": [
        {
          "output_type": "stream",
          "name": "stdout",
          "text": [
            "6/6 [==============================] - 135s 26s/step - loss: 0.4706 - accuracy: 0.8722\n",
            "Test accuracy: 0.8722222447395325\n"
          ]
        }
      ]
    },
    {
      "cell_type": "code",
      "source": [
        "# Save the model\n",
        "model.save(checkpoint_filepath)"
      ],
      "metadata": {
        "id": "zI21t_0dxKX0"
      },
      "execution_count": null,
      "outputs": []
    }
  ]
}